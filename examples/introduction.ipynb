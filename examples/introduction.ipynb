{
 "cells": [
  {
   "cell_type": "markdown",
   "metadata": {},
   "source": [
    "# Introduction"
   ]
  },
  {
   "cell_type": "code",
   "execution_count": 1,
   "metadata": {},
   "outputs": [],
   "source": [
    "import ipywidgets as widgets\n",
    "from soniscope_jupyter import LensWidget, ALLOWED_SHAPES\n",
    "import pandas as pd"
   ]
  },
  {
   "cell_type": "markdown",
   "metadata": {},
   "source": [
    "## simple example"
   ]
  },
  {
   "cell_type": "code",
   "execution_count": 2,
   "metadata": {},
   "outputs": [
    {
     "data": {
      "application/vnd.jupyter.widget-view+json": {
       "model_id": "6c9bedfd0763437ba117cef505f80986",
       "version_major": 2,
       "version_minor": 0
      },
      "text/plain": [
       "LensWidget(substrate_height=200, substrate_width=200)"
      ]
     },
     "metadata": {},
     "output_type": "display_data"
    }
   ],
   "source": [
    "plot = LensWidget(substrate_width=200, substrate_height=200)\n",
    "plot"
   ]
  },
  {
   "cell_type": "code",
   "execution_count": 3,
   "metadata": {},
   "outputs": [],
   "source": [
    "df = pd.DataFrame({'var1': {0: 1, 1: 2, 2: 3, 3: 4, 4: 5, 5: 6, 6: 7, 7: 8},\n",
    "                   'var2': {0: 1, 1: 4, 2: 9, 3: 16, 4: 25, 5: 36, 6: 49, 7: 64}})\n",
    "plot.set_data(df, \"var1\", \"var2\")"
   ]
  },
  {
   "cell_type": "code",
   "execution_count": 4,
   "metadata": {},
   "outputs": [],
   "source": [
    "plot.x_field = \"var2\""
   ]
  },
  {
   "cell_type": "markdown",
   "metadata": {},
   "source": [
    "## Interactive Demo"
   ]
  },
  {
   "cell_type": "markdown",
   "metadata": {},
   "source": [
    "We are using a dataset Fanaee-T, Hadi, and Gama, Joao, 'Event labeling combining ensemble detectors and background knowledge', Progress in Artificial Intelligence (2013): pp. 1-15, Springer Berlin Heidelberg, <https://doi.org/10.1007/s13748-013-0040-3>.\n",
    "\n",
    "See <https://archive.ics.uci.edu/ml/datasets/bike+sharing+dataset>"
   ]
  },
  {
   "cell_type": "code",
   "execution_count": 5,
   "metadata": {},
   "outputs": [
    {
     "data": {
      "text/html": [
       "<div>\n",
       "<style scoped>\n",
       "    .dataframe tbody tr th:only-of-type {\n",
       "        vertical-align: middle;\n",
       "    }\n",
       "\n",
       "    .dataframe tbody tr th {\n",
       "        vertical-align: top;\n",
       "    }\n",
       "\n",
       "    .dataframe thead th {\n",
       "        text-align: right;\n",
       "    }\n",
       "</style>\n",
       "<table border=\"1\" class=\"dataframe\">\n",
       "  <thead>\n",
       "    <tr style=\"text-align: right;\">\n",
       "      <th></th>\n",
       "      <th>instant</th>\n",
       "      <th>dteday</th>\n",
       "      <th>season</th>\n",
       "      <th>mnth</th>\n",
       "      <th>holiday</th>\n",
       "      <th>weekday</th>\n",
       "      <th>workingday</th>\n",
       "      <th>weathersit</th>\n",
       "      <th>windspeed</th>\n",
       "      <th>casual</th>\n",
       "      <th>registered</th>\n",
       "      <th>cnt</th>\n",
       "      <th>temp °C</th>\n",
       "      <th>atemp °C</th>\n",
       "      <th>hum %</th>\n",
       "      <th>year</th>\n",
       "    </tr>\n",
       "  </thead>\n",
       "  <tbody>\n",
       "    <tr>\n",
       "      <th>0</th>\n",
       "      <td>1</td>\n",
       "      <td>2011-01-01</td>\n",
       "      <td>winter</td>\n",
       "      <td>1</td>\n",
       "      <td>0</td>\n",
       "      <td>Saturday</td>\n",
       "      <td>0</td>\n",
       "      <td>Mist + Cloudy, Mist + Broken clouds, Mist + Fe...</td>\n",
       "      <td>10.749882</td>\n",
       "      <td>331</td>\n",
       "      <td>654</td>\n",
       "      <td>985</td>\n",
       "      <td>8.175849</td>\n",
       "      <td>7.999250</td>\n",
       "      <td>80.5833</td>\n",
       "      <td>2011</td>\n",
       "    </tr>\n",
       "    <tr>\n",
       "      <th>1</th>\n",
       "      <td>2</td>\n",
       "      <td>2011-01-02</td>\n",
       "      <td>winter</td>\n",
       "      <td>1</td>\n",
       "      <td>0</td>\n",
       "      <td>Sunday</td>\n",
       "      <td>0</td>\n",
       "      <td>Mist + Cloudy, Mist + Broken clouds, Mist + Fe...</td>\n",
       "      <td>16.652113</td>\n",
       "      <td>131</td>\n",
       "      <td>670</td>\n",
       "      <td>801</td>\n",
       "      <td>9.083466</td>\n",
       "      <td>7.346774</td>\n",
       "      <td>69.6087</td>\n",
       "      <td>2011</td>\n",
       "    </tr>\n",
       "    <tr>\n",
       "      <th>2</th>\n",
       "      <td>3</td>\n",
       "      <td>2011-01-03</td>\n",
       "      <td>winter</td>\n",
       "      <td>1</td>\n",
       "      <td>0</td>\n",
       "      <td>Monday</td>\n",
       "      <td>1</td>\n",
       "      <td>Clear, Few clouds, Partly cloudy, Partly cloudy</td>\n",
       "      <td>16.636703</td>\n",
       "      <td>120</td>\n",
       "      <td>1229</td>\n",
       "      <td>1349</td>\n",
       "      <td>1.229108</td>\n",
       "      <td>-3.499270</td>\n",
       "      <td>43.7273</td>\n",
       "      <td>2011</td>\n",
       "    </tr>\n",
       "  </tbody>\n",
       "</table>\n",
       "</div>"
      ],
      "text/plain": [
       "   instant      dteday  season  mnth  holiday   weekday  workingday  \\\n",
       "0        1  2011-01-01  winter     1        0  Saturday           0   \n",
       "1        2  2011-01-02  winter     1        0    Sunday           0   \n",
       "2        3  2011-01-03  winter     1        0    Monday           1   \n",
       "\n",
       "                                          weathersit  windspeed  casual  \\\n",
       "0  Mist + Cloudy, Mist + Broken clouds, Mist + Fe...  10.749882     331   \n",
       "1  Mist + Cloudy, Mist + Broken clouds, Mist + Fe...  16.652113     131   \n",
       "2    Clear, Few clouds, Partly cloudy, Partly cloudy  16.636703     120   \n",
       "\n",
       "   registered   cnt   temp °C  atemp °C    hum %  year  \n",
       "0         654   985  8.175849  7.999250  80.5833  2011  \n",
       "1         670   801  9.083466  7.346774  69.6087  2011  \n",
       "2        1229  1349  1.229108 -3.499270  43.7273  2011  "
      ]
     },
     "execution_count": 5,
     "metadata": {},
     "output_type": "execute_result"
    }
   ],
   "source": [
    "# daily_file = r'c:\\Users\\arind\\Documents\\scm\\sonivis-jupyter\\BikeData\\day.csv'\n",
    "daily_file = 'bike_day_semantic.csv'\n",
    "daily = pd.read_table(daily_file, sep=',')  # , low_memory=False\n",
    "daily.head(3)"
   ]
  },
  {
   "cell_type": "code",
   "execution_count": 6,
   "metadata": {},
   "outputs": [],
   "source": [
    "# get possible colums for axes\n",
    "numeric_cols = daily.select_dtypes(include='number').columns.values.tolist()\n",
    "categoric_cols = ['', 'weathersit', 'workingday', 'weekday', 'mnth', 'season', 'yr']"
   ]
  },
  {
   "cell_type": "code",
   "execution_count": 7,
   "metadata": {},
   "outputs": [
    {
     "data": {
      "application/vnd.jupyter.widget-view+json": {
       "model_id": "ccbdcf9ac8f84e0c94ee13fab5c624cb",
       "version_major": 2,
       "version_minor": 0
      },
      "text/plain": [
       "LensWidget(x_field='temp °C', y_field='hum %')"
      ]
     },
     "metadata": {},
     "output_type": "display_data"
    },
    {
     "data": {
      "application/vnd.jupyter.widget-view+json": {
       "model_id": "9eede943dde24b4e95dbde4ad1c7b256",
       "version_major": 2,
       "version_minor": 0
      },
      "text/plain": [
       "HBox(children=(VBox(children=(Dropdown(description='X-Axis:', index=8, options=('instant', 'mnth', 'holiday', …"
      ]
     },
     "metadata": {},
     "output_type": "display_data"
    },
    {
     "data": {
      "application/vnd.jupyter.widget-view+json": {
       "model_id": "4c84baa4ae7348f8aa0f960aabcbb844",
       "version_major": 2,
       "version_minor": 0
      },
      "text/plain": [
       "Output()"
      ]
     },
     "metadata": {},
     "output_type": "display_data"
    }
   ],
   "source": [
    "plotBike = LensWidget(daily, 'temp °C', 'hum %')\n",
    "sliderSize = widgets.FloatSlider(description='Size', min=0.01, max=1.5, step=0.01, readout_format='.0%')\n",
    "radioShape = widgets.RadioButtons(options=ALLOWED_SHAPES,\n",
    "    layout={'width': 'max-content'}, # If the items' names are long\n",
    "    description='Shape:'\n",
    ")\n",
    "drpX = widgets.Dropdown(options=numeric_cols, value='temp °C', description='X-Axis:',)\n",
    "drpY = widgets.Dropdown(options=numeric_cols, value='hum %', description='Y-Axis:',)\n",
    "drpC = widgets.Dropdown(options=categoric_cols, value='', description='Color:',)\n",
    "\n",
    "outputBike = widgets.Output()\n",
    "l = widgets.link((plotBike, 'size'), (sliderSize, 'value'))\n",
    "l2 = widgets.link((plotBike, 'shape'), (radioShape, 'value'))\n",
    "l3 = widgets.link((plotBike, 'x_field'), (drpX, 'value'))\n",
    "l4 = widgets.link((plotBike, 'y_field'), (drpY, 'value'))\n",
    "l5 = widgets.link((plotBike, 'color_field'), (drpC, 'value'))\n",
    "\n",
    "display(plotBike, \n",
    "        widgets.HBox([\n",
    "            widgets.VBox([drpX, drpY,drpC,sliderSize]), \n",
    "            radioShape]), \n",
    "        outputBike)\n",
    "\n",
    "# def on_plot_clicked(widget, payload, _b):\n",
    "#     with outputBike:\n",
    "#         # print(\"Plot clicked. \")\n",
    "#         print(widget, payload)\n",
    "\n",
    "# plotBike.on_msg(on_plot_clicked)\n",
    "\n",
    "def on_lens_clicked(widget, x: float, y: float, filtered: pd.DataFrame, distances: pd.Series):\n",
    "    with outputBike:\n",
    "        # print(\"Plot clicked. \")\n",
    "        # print(widget)\n",
    "        print(\"at\", x, y, \"found\", filtered.shape[0], \"tuple\")\n",
    "        item = filtered.index[0]\n",
    "        print(\"1st tuple\", filtered.at[item, 'temp'], filtered.at[item, 'hum'], \"has distance\", distances.at[item]) \n",
    "\n",
    "plotBike.on_lens_click(on_lens_clicked)"
   ]
  },
  {
   "cell_type": "code",
   "execution_count": 8,
   "metadata": {},
   "outputs": [],
   "source": [
    "plotBike.substrate_width = 300\n",
    "plotBike.substrate_height = 200"
   ]
  },
  {
   "cell_type": "code",
   "execution_count": 9,
   "metadata": {},
   "outputs": [],
   "source": [
    "plotBike.x_field = \"cnt\"\n",
    "plotBike.shape=\"square\""
   ]
  }
 ],
 "metadata": {
  "kernelspec": {
   "display_name": "Python 3 (ipykernel)",
   "language": "python",
   "name": "python3"
  },
  "language_info": {
   "codemirror_mode": {
    "name": "ipython",
    "version": 3
   },
   "file_extension": ".py",
   "mimetype": "text/x-python",
   "name": "python",
   "nbconvert_exporter": "python",
   "pygments_lexer": "ipython3",
   "version": "3.9.6"
  }
 },
 "nbformat": 4,
 "nbformat_minor": 4
}
