{
 "cells": [
  {
   "cell_type": "markdown",
   "metadata": {},
   "source": [
    "# Introduction"
   ]
  },
  {
   "cell_type": "code",
   "execution_count": 1,
   "metadata": {},
   "outputs": [],
   "source": [
    "import ipywidgets as widgets\n",
    "from sonivis_lens_widget import LensWidget, ALLOWED_SHAPES\n",
    "import pandas as pd"
   ]
  },
  {
   "cell_type": "markdown",
   "metadata": {},
   "source": [
    "## simple example"
   ]
  },
  {
   "cell_type": "code",
   "execution_count": 2,
   "metadata": {},
   "outputs": [
    {
     "data": {
      "application/vnd.jupyter.widget-view+json": {
       "model_id": "28ea5b342f084f8ea8a6d1b2b7afd8f5",
       "version_major": 2,
       "version_minor": 0
      },
      "text/plain": [
       "LensWidget(substrate_height=200, substrate_width=200)"
      ]
     },
     "metadata": {},
     "output_type": "display_data"
    }
   ],
   "source": [
    "plot = LensWidget(substrate_width=200, substrate_height=200)\n",
    "plot"
   ]
  },
  {
   "cell_type": "code",
   "execution_count": 3,
   "metadata": {},
   "outputs": [],
   "source": [
    "df = pd.DataFrame({'var1': {0: 1, 1: 2, 2: 3, 3: 4, 4: 5, 5: 6, 6: 7, 7: 8},\n",
    "                   'var2': {0: 1, 1: 4, 2: 9, 3: 16, 4: 25, 5: 36, 6: 49, 7: 64}})\n",
    "plot.set_data(df, \"var1\", \"var2\")"
   ]
  },
  {
   "cell_type": "code",
   "execution_count": 4,
   "metadata": {},
   "outputs": [],
   "source": [
    "plot.x_field = \"var2\""
   ]
  },
  {
   "cell_type": "markdown",
   "metadata": {},
   "source": [
    "## Interactive Demo"
   ]
  },
  {
   "cell_type": "markdown",
   "metadata": {},
   "source": [
    "We are using a dataset Fanaee-T, Hadi, and Gama, Joao, 'Event labeling combining ensemble detectors and background knowledge', Progress in Artificial Intelligence (2013): pp. 1-15, Springer Berlin Heidelberg, <https://doi.org/10.1007/s13748-013-0040-3>.\n",
    "\n",
    "See <https://archive.ics.uci.edu/ml/datasets/bike+sharing+dataset>"
   ]
  },
  {
   "cell_type": "code",
   "execution_count": null,
   "metadata": {},
   "outputs": [],
   "source": [
    "# load data file from zip archive on UCI ML \n",
    "# hack based on <https://stackoverflow.com/a/67298378/1140589>\n",
    "import zipfile\n",
    "from urllib.request import urlopen\n",
    "import shutil\n",
    "import os\n",
    "\n",
    "url = 'https://archive.ics.uci.edu/ml/machine-learning-databases/00275/Bike-Sharing-Dataset.zip'\n",
    "zip_file_name = 'Bike-Sharing-Dataset.zip'\n",
    "csv_file = 'day.csv'\n",
    "\n",
    "# extracting zipfile from URL\n",
    "with urlopen(url) as response, open(zip_file_name, 'wb') as out_file:\n",
    "    shutil.copyfileobj(response, out_file)\n",
    "\n",
    "    # extracting required file from zipfile\n",
    "    with zipfile.ZipFile(zip_file_name) as zf:\n",
    "        zf.extract(csv_file)\n",
    "\n",
    "# deleting the zipfile from the directory\n",
    "os.remove(zip_file_name)\n",
    "\n",
    "# loading data from the file\n",
    "daily = pd.read_csv(csv_file)\n",
    "print(daily.head(3))"
   ]
  },
  {
   "cell_type": "code",
   "execution_count": 14,
   "metadata": {},
   "outputs": [
    {
     "name": "stdout",
     "output_type": "stream",
     "text": [
      "   instant      dteday  season  yr  mnth  holiday  weekday  workingday  \\\n",
      "0        1  2011-01-01       1   0     1        0        6           0   \n",
      "1        2  2011-01-02       1   0     1        0        0           0   \n",
      "2        3  2011-01-03       1   0     1        0        1           1   \n",
      "\n",
      "   weathersit      temp     atemp       hum  windspeed  casual  registered  \\\n",
      "0           2  0.344167  0.363625  0.805833   0.160446     331         654   \n",
      "1           2  0.363478  0.353739  0.696087   0.248539     131         670   \n",
      "2           1  0.196364  0.189405  0.437273   0.248309     120        1229   \n",
      "\n",
      "    cnt  \n",
      "0   985  \n",
      "1   801  \n",
      "2  1349  \n"
     ]
    }
   ],
   "source": [
    "# (backup) load from local file system\n",
    "daily_file = r'c:\\Users\\arind\\Documents\\scm\\sonivis-jupyter\\BikeData\\day.csv'\n",
    "daily = pd.read_table(daily_file, sep=',')  # , low_memory=False\n",
    "print(daily.head(3))"
   ]
  },
  {
   "cell_type": "code",
   "execution_count": 9,
   "metadata": {},
   "outputs": [],
   "source": [
    "# get possible colums for axes\n",
    "numeric_cols = daily.select_dtypes(include='number').columns.values.tolist()"
   ]
  },
  {
   "cell_type": "code",
   "execution_count": 10,
   "metadata": {},
   "outputs": [
    {
     "data": {
      "application/vnd.jupyter.widget-view+json": {
       "model_id": "ac403eb1dd5242c69dc53d4634a37b57",
       "version_major": 2,
       "version_minor": 0
      },
      "text/plain": [
       "LensWidget(x_field='temp', y_field='hum')"
      ]
     },
     "metadata": {},
     "output_type": "display_data"
    },
    {
     "data": {
      "application/vnd.jupyter.widget-view+json": {
       "model_id": "5e0059eec36b47028b279b04ad259e11",
       "version_major": 2,
       "version_minor": 0
      },
      "text/plain": [
       "HBox(children=(VBox(children=(Dropdown(description='X-Axis:', index=8, options=('instant', 'season', 'yr', 'mn…"
      ]
     },
     "metadata": {},
     "output_type": "display_data"
    },
    {
     "data": {
      "application/vnd.jupyter.widget-view+json": {
       "model_id": "cfe8a62c3dfc4d5eaf731edeeafdaec2",
       "version_major": 2,
       "version_minor": 0
      },
      "text/plain": [
       "Output()"
      ]
     },
     "metadata": {},
     "output_type": "display_data"
    }
   ],
   "source": [
    "plotBike = LensWidget(daily, 'temp', 'hum')\n",
    "sliderSize = widgets.FloatSlider(description='Size', min=0.01, max=1.5, step=0.01, readout_format='.0%')\n",
    "from sonivis_lens_widget import ALLOWED_SHAPES \n",
    "radioShape = widgets.RadioButtons(options=ALLOWED_SHAPES,\n",
    "    layout={'width': 'max-content'}, # If the items' names are long\n",
    "    description='Shape:'\n",
    ")\n",
    "drpX = widgets.Dropdown(options=numeric_cols, value='temp', description='X-Axis:',)\n",
    "drpY = widgets.Dropdown(options=numeric_cols, value='hum', description='Y-Axis:',)\n",
    "\n",
    "outputBike = widgets.Output()\n",
    "l = widgets.link((plotBike, 'size'), (sliderSize, 'value'))\n",
    "l2 = widgets.link((plotBike, 'shape'), (radioShape, 'value'))\n",
    "l3 = widgets.link((plotBike, 'x_field'), (drpX, 'value'))\n",
    "l4 = widgets.link((plotBike, 'y_field'), (drpY, 'value'))\n",
    "\n",
    "display(plotBike, \n",
    "        widgets.HBox([\n",
    "            widgets.VBox([drpX, drpY,sliderSize]), \n",
    "            radioShape]), \n",
    "        outputBike)\n",
    "\n",
    "# def on_plot_clicked(widget, payload, _b):\n",
    "#     with outputBike:\n",
    "#         # print(\"Plot clicked. \")\n",
    "#         print(widget, payload)\n",
    "\n",
    "# plotBike.on_msg(on_plot_clicked)\n",
    "\n",
    "def on_lens_clicked(widget, x: float, y: float, filtered: pd.DataFrame, distances: pd.Series):\n",
    "    with outputBike:\n",
    "        # print(\"Plot clicked. \")\n",
    "        # print(widget)\n",
    "        print(\"at\", x, y, \"found\", filtered.shape[0], \"tuple\")\n",
    "        item = filtered.index[0]\n",
    "        print(\"1st tuple\", filtered.at[item, 'temp'], filtered.at[item, 'hum'], \"has distance\", distances.at[item]) \n",
    "\n",
    "plotBike.on_lens_click(on_lens_clicked)"
   ]
  },
  {
   "cell_type": "code",
   "execution_count": 15,
   "metadata": {},
   "outputs": [],
   "source": [
    "plotBike.substrate_width = 600\n",
    "plotBike.substrate_height = 200"
   ]
  },
  {
   "cell_type": "code",
   "execution_count": 16,
   "metadata": {},
   "outputs": [],
   "source": [
    "plotBike.x_field = \"cnt\"\n",
    "plotBike.shape=\"square\""
   ]
  },
  {
   "cell_type": "code",
   "execution_count": null,
   "metadata": {},
   "outputs": [],
   "source": []
  }
 ],
 "metadata": {
  "kernelspec": {
   "display_name": "Python 3 (ipykernel)",
   "language": "python",
   "name": "python3"
  },
  "language_info": {
   "codemirror_mode": {
    "name": "ipython",
    "version": 3
   },
   "file_extension": ".py",
   "mimetype": "text/x-python",
   "name": "python",
   "nbconvert_exporter": "python",
   "pygments_lexer": "ipython3",
   "version": "3.9.6"
  }
 },
 "nbformat": 4,
 "nbformat_minor": 4
}
