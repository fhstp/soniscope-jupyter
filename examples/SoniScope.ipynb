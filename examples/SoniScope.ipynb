{
 "cells": [
  {
   "cell_type": "markdown",
   "id": "0d3fcf36-2fce-49b5-8d9b-5ec584162c10",
   "metadata": {},
   "source": [
    "# SoniScope Prototype\n"
   ]
  },
  {
   "cell_type": "code",
   "execution_count": 1,
   "id": "ed04a35d-22bc-407a-913e-6206c19c660e",
   "metadata": {},
   "outputs": [],
   "source": [
    "import numpy as np\n",
    "import pandas as pd\n",
    "\n",
    "import sc3nb as scn\n",
    "from sc3nb import SynthDef, Synth\n",
    "\n",
    "import time\n",
    "import math\n",
    "\n",
    "import ipywidgets as widgets\n",
    "from ipywidgets import interactive, interact\n",
    "from ipywidgets import HBox, Label\n",
    "from ipywidgets import IntSlider\n",
    "\n",
    "from sonivis_lens_widget import LensWidget\n",
    "from sonivis_lens_widget import ALLOWED_SHAPES "
   ]
  },
  {
   "cell_type": "markdown",
   "id": "6029fe93-c662-43d2-8cc7-646b8fa34ea9",
   "metadata": {},
   "source": [
    "### Connecting Jupyter Notebook with SuperCollider"
   ]
  },
  {
   "cell_type": "code",
   "execution_count": 2,
   "id": "09e9a5d6-9043-496b-9fde-1e89dfc0a088",
   "metadata": {
    "tags": []
   },
   "outputs": [
    {
     "data": {
      "application/javascript": [
       "if (typeof Jupyter !== 'undefined') {\n",
       "                        Jupyter.keyboard_manager.command_shortcuts.add_shortcut(\n",
       "                        'cmd-.', {\n",
       "                        help : 'Free all nodes on SC server',\n",
       "                        help_index : 'zz',\n",
       "                        handler : function (event) {\n",
       "                            IPython.notebook.kernel.execute(\n",
       "                                \"import sc3nb; sc3nb.SC.get_default().server.free_all(root=True)\"\n",
       "                            )\n",
       "                            return true;}\n",
       "                        });\n",
       "                    }"
      ],
      "text/plain": [
       "<IPython.core.display.Javascript object>"
      ]
     },
     "metadata": {},
     "output_type": "display_data"
    },
    {
     "name": "stdout",
     "output_type": "stream",
     "text": [
      "Starting sclang process... [sclang | start reading ]\n",
      "[sclang]  compiling class library...\n",
      "[sclang]  \tFound 855 primitives.\n",
      "[sclang]  \tCompiling directory '/Applications/SuperCollider.app/Contents/Resources/SCClassLibrary'\n",
      "[sclang]  \tCompiling directory '/Users/kenge/Library/Application Support/SuperCollider/Extensions'\n",
      "[sclang]  \tnumentries = 834570 / 12202144 = 0.068\n",
      "[sclang]  \t5428 method selectors, 2248 classes\n",
      "[sclang]  \tmethod table size 13289448 bytes, big table size 97617152\n",
      "[sclang]  \tNumber of Symbols 12163\n",
      "[sclang]  \tByte Code Size 364647\n",
      "[sclang]  \tcompiled 327 files in 0.42 seconds\n",
      "[sclang]  compile done\n",
      "[sclang]  localhost : setting clientID to 0.\n",
      "[sclang]  internal : setting clientID to 0.\n",
      "[sclang]  Class tree inited in 0.01 seconds\n",
      "[sclang]  \n",
      "[sclang]  \n",
      "[sclang]  *** Welcome to SuperCollider 3.12.2. *** For help type cmd-d.\n",
      "Done.\n",
      "Registering OSC /return callback in sclang... [sclang]  sc3> \"sc3nb - Registering OSC /return callback\".postln; r = r ? (); r.callback = { arg code, ip, port; var result = code.interpret; var addr = NetAddr.new(ip, port); var prependSize = { arg elem; if (elem.class == Array){ elem = [elem.size] ++ elem.collect(prependSize); }{ elem; }; }; var msgContent = prependSize.value(result); addr.sendMsg(\"/return\", msgContent); result; };\n",
      "[sclang]  sc3nb - Registering OSC /return callback\n",
      "[sclang]  -> ( 'callback': a Function )\n",
      "Done.\n",
      "Loading default sc3nb SynthDefs... [sclang]  sc3> \"sc3nb - Loading SynthDefs from ^synthdef_path\".postln; PathName.new(\"/Users/kenge/Desktop/SONIVIS/Prototypes/sc3nb/src/sc3nb/resources/synthdefs\").files.collect( { |path| (path.extension == \"scsyndef\").if({SynthDescLib.global.read(path); path;})} );\n",
      "[sclang]  sc3nb - Loading SynthDefs from ^synthdef_path\n",
      "[sclang]  -> [ nil, PathName(/Users/kenge/Desktop/SONIVIS/Prototypes/sc3nb/src/sc3nb/resources/synthdefs/pb-1ch.scsyndef), PathName(/Users/kenge/Desktop/SONIVIS/Prototypes/sc3nb/src/sc3nb/resources/synthdefs/pb-2ch.scsyndef), PathName(/Users/kenge/Desktop/SONIVIS/Prototypes/sc3nb/src/sc3nb/resources/synthdefs/record-1ch.scsyndef), PathName(/Users/kenge/Desktop/SONIVIS/Prototypes/sc3nb/src/sc3nb/resources/synthdefs/record-2ch.scsyndef), PathName(/Users/kenge/Desktop/SONIVIS/Prototypes/sc3nb/src/sc3nb/resources/synthdefs/...etc...\n",
      "Done.\n",
      "Booting SuperCollider Server... [scsynth | start reading ]\n",
      "[scsynth]  Number of Devices: 5\n",
      "[scsynth]     0 : \"SMS27A850T\"\n",
      "[scsynth]     1 : \"MacBook Pro Microphone\"\n",
      "[scsynth]     2 : \"MacBook Pro Speakers\"\n",
      "[scsynth]     3 : \"Microsoft Teams Audio\"\n",
      "[scsynth]     4 : \"ZoomAudioD\"\n",
      "[scsynth]  \n",
      "[scsynth]  \"MacBook Pro Microphone\" Input Device\n",
      "[scsynth]     Streams: 1\n",
      "[scsynth]        0  channels 1\n",
      "[scsynth]  \n",
      "[scsynth]  \"MacBook Pro Speakers\" Output Device\n",
      "[scsynth]     Streams: 1\n",
      "[scsynth]        0  channels 2\n",
      "[scsynth]  \n",
      "[scsynth]  SC_AudioDriver: sample rate = 48000.000000, driver's block size = 512\n",
      "[scsynth]  SuperCollider 3 server ready.\n",
      "Done.\n",
      "[sclang]  sc3> \"sc3nb - Connecting sclang to scsynth\".postln; Server.default=s=Server.remote('sc3nb_remote', NetAddr(\"127.0.0.1\",57110), options:ServerOptions.new, clientID:0);\n",
      "[sclang]  sc3nb - Connecting sclang to scsynth\n",
      "[sclang]  sc3nb_remote : setting clientID to 0.\n",
      "[sclang]  -> Server\n",
      "[sclang]  sc3> r['callback'].value(\"NetAddr.langPort\", \"127.0.0.1\", 57131);\n",
      "[sclang]  -> 57120\n",
      "[sclang]  sc3> r['callback'].value(\"\\\"sc3nb - Creating SynthDef sc3nb_volumeAmpControl2\\\".postln; r.tmpSynthDef = SynthDef(\\\"sc3nb_volumeAmpControl2\\\", { | volumeAmp = 1, volumeLag = 0.1, gate=1, bus | XOut.ar(bus, Linen.kr(gate, releaseTime: 0.05, doneAction:2), In.ar(bus, 2) * Lag.kr(volumeAmp, volumeLag) ); }); SynthDescLib.global.add(r.tmpSynthDef.asSynthDesc); r.tmpSynthDef.asBytes();\", \"127.0.0.1\", 57131);\n",
      "[sclang]  sc3nb - Creating SynthDef sc3nb_volumeAmpControl2\n",
      "[sclang]  -> Int8Array[ 83, 67, 103, 102, 0, 0, 0, 2, 0, 1, 23, 115, 99, 51, 110, 98, 95, 118, 111, 108, 117, 109, 101, 65, 109, 112, 67, 111, 110, 116, 114, 111, 108, 50, 0, 0, 0, 4, 60, 35, -41, 10, 63, -128, 0, 0, 61, 76, -52, -51, 64, 0, 0, 0, 0, 0, 0, 4, 63, -128, 0, 0, 61, -52, -52, -51, 63, -128, 0, 0, 0, 0, 0, 0, 0, 0, 0, 4, 9, 118, 111, 108, 117, 109, 101, 65, 109, 112, 0, 0, 0, 0, 9, 118, 111, 108, 117, 109, 101, 76, 97, 103, 0, 0, 0, 1, 4, 103, 97, 116, 101, 0, 0, 0, 2, 3, 98, 117, 115, 0, 0, 0, 3, 0, 0, 0, 7...etc...\n",
      "[sclang]  sc3> Requested notification messages from server 'sc3nb_remote'\n",
      "[sclang]  sc3nb_remote: server process has maxLogins 8 - adjusting my options accordingly.\n",
      "[sclang]  sc3nb_remote: keeping clientID (0) as confirmed by server process.\n"
     ]
    }
   ],
   "source": [
    "# This notebook uses Thomas Herrmann's and Dennis Reinsch's tool \"sc3nb\" to connect to SuperCollider.\n",
    "# Details here: https://sc3nb.readthedocs.io/en/latest/README.html\n",
    "# If the connection works you should hear a short \"bolp-blip\" sound.\n",
    "\n",
    "sc = scn.startup()"
   ]
  },
  {
   "cell_type": "markdown",
   "id": "5bf4f652-4d6a-4425-9d6b-342fae2c5c89",
   "metadata": {
    "tags": []
   },
   "source": [
    "---\n",
    "---\n",
    "\n",
    "### Loading the data\n",
    "\n",
    "Download here: https://archive.ics.uci.edu/ml/datasets/bike+sharing+dataset\n",
    "\n",
    "The following text is also taken from the download website.\n",
    "\n",
    "**Source:**\n",
    "\n",
    "Hadi Fanaee-T\n",
    "\n",
    "Laboratory of Artificial Intelligence and Decision Support (LIAAD), University of Porto\n",
    "INESC Porto, Campus da FEUP\n",
    "Rua Dr. Roberto Frias, 378\n",
    "4200 - 465 Porto, Portugal\n",
    "\n",
    "Original Source: http://capitalbikeshare.com/system-data\n",
    "Weather Information: http://www.freemeteo.com\n",
    "Holiday Schedule: http://dchr.dc.gov/page/holiday-schedule\n",
    "\n",
    "\n",
    "**Data Set Information:**\n",
    "\n",
    "Bike sharing systems are new generation of traditional bike rentals where whole process from membership, rental and return back has become automatic. Through these systems, user is able to easily rent a bike from a particular position and return back at another position. Currently, there are about over 500 bike-sharing programs around the world which is composed of over 500 thousands bicycles. Today, there exists great interest in these systems due to their important role in traffic, environmental and health issues.\n",
    "\n",
    "Apart from interesting real world applications of bike sharing systems, the characteristics of data being generated by these systems make them attractive for the research. Opposed to other transport services such as bus or subway, the duration of travel, departure and arrival position is explicitly recorded in these systems. This feature turns bike sharing system into a virtual sensor network that can be used for sensing mobility in the city. Hence, it is expected that most of important events in the city could be detected via monitoring these data.\n",
    "\n",
    "\n",
    "**Attribute Information:**\n",
    "\n",
    "day.csv has the following fields:\n",
    "\n",
    "- instant: record index\n",
    "- dteday : date\n",
    "- season : season (1:winter, 2:spring, 3:summer, 4:fall)\n",
    "- yr : year (0: 2011, 1:2012)\n",
    "- mnth : month ( 1 to 12)\n",
    "- holiday : weather day is holiday or not (extracted from [Web Link])\n",
    "- weekday : day of the week\n",
    "- workingday : if day is neither weekend nor holiday is 1, otherwise is 0.\n",
    "- weathersit :\n",
    "    - 1: Clear, Few clouds, Partly cloudy, Partly cloudy\n",
    "    - 2: Mist + Cloudy, Mist + Broken clouds, Mist + Few clouds, Mist\n",
    "    - 3: Light Snow, Light Rain + Thunderstorm + Scattered clouds, Light Rain + Scattered clouds\n",
    "    - 4: Heavy Rain + Ice Pallets + Thunderstorm + Mist, Snow + Fog\n",
    "- temp : Normalized temperature in Celsius. The values are derived via (t-t_min)/(t_max-t_min), t_min=-8, t_max=+39 (only in hourly scale)\n",
    "- atemp: Normalized feeling temperature in Celsius. The values are derived via (t-t_min)/(t_max-t_min), t_min=-16, t_max=+50 (only in hourly scale)\n",
    "- hum: Normalized humidity. The values are divided to 100 (max)\n",
    "- windspeed: Normalized wind speed. The values are divided to 67 (max)\n",
    "- casual: count of casual users\n",
    "- registered: count of registered users\n",
    "- cnt: count of total rental bikes including both casual and registered\n",
    "\n",
    "\n"
   ]
  },
  {
   "cell_type": "code",
   "execution_count": 3,
   "id": "3d9aba6c-1c97-4b05-9d3c-ffb18a41172f",
   "metadata": {
    "tags": []
   },
   "outputs": [
    {
     "data": {
      "text/html": [
       "<div>\n",
       "<style scoped>\n",
       "    .dataframe tbody tr th:only-of-type {\n",
       "        vertical-align: middle;\n",
       "    }\n",
       "\n",
       "    .dataframe tbody tr th {\n",
       "        vertical-align: top;\n",
       "    }\n",
       "\n",
       "    .dataframe thead th {\n",
       "        text-align: right;\n",
       "    }\n",
       "</style>\n",
       "<table border=\"1\" class=\"dataframe\">\n",
       "  <thead>\n",
       "    <tr style=\"text-align: right;\">\n",
       "      <th></th>\n",
       "      <th>instant</th>\n",
       "      <th>dteday</th>\n",
       "      <th>season</th>\n",
       "      <th>yr</th>\n",
       "      <th>mnth</th>\n",
       "      <th>holiday</th>\n",
       "      <th>weekday</th>\n",
       "      <th>workingday</th>\n",
       "      <th>weathersit</th>\n",
       "      <th>temp</th>\n",
       "      <th>atemp</th>\n",
       "      <th>hum</th>\n",
       "      <th>windspeed</th>\n",
       "      <th>casual</th>\n",
       "      <th>registered</th>\n",
       "      <th>cnt</th>\n",
       "    </tr>\n",
       "  </thead>\n",
       "  <tbody>\n",
       "    <tr>\n",
       "      <th>0</th>\n",
       "      <td>1</td>\n",
       "      <td>2011-01-01</td>\n",
       "      <td>1</td>\n",
       "      <td>0</td>\n",
       "      <td>1</td>\n",
       "      <td>0</td>\n",
       "      <td>6</td>\n",
       "      <td>0</td>\n",
       "      <td>2</td>\n",
       "      <td>0.344167</td>\n",
       "      <td>0.363625</td>\n",
       "      <td>0.805833</td>\n",
       "      <td>0.160446</td>\n",
       "      <td>331</td>\n",
       "      <td>654</td>\n",
       "      <td>985</td>\n",
       "    </tr>\n",
       "    <tr>\n",
       "      <th>1</th>\n",
       "      <td>2</td>\n",
       "      <td>2011-01-02</td>\n",
       "      <td>1</td>\n",
       "      <td>0</td>\n",
       "      <td>1</td>\n",
       "      <td>0</td>\n",
       "      <td>0</td>\n",
       "      <td>0</td>\n",
       "      <td>2</td>\n",
       "      <td>0.363478</td>\n",
       "      <td>0.353739</td>\n",
       "      <td>0.696087</td>\n",
       "      <td>0.248539</td>\n",
       "      <td>131</td>\n",
       "      <td>670</td>\n",
       "      <td>801</td>\n",
       "    </tr>\n",
       "    <tr>\n",
       "      <th>2</th>\n",
       "      <td>3</td>\n",
       "      <td>2011-01-03</td>\n",
       "      <td>1</td>\n",
       "      <td>0</td>\n",
       "      <td>1</td>\n",
       "      <td>0</td>\n",
       "      <td>1</td>\n",
       "      <td>1</td>\n",
       "      <td>1</td>\n",
       "      <td>0.196364</td>\n",
       "      <td>0.189405</td>\n",
       "      <td>0.437273</td>\n",
       "      <td>0.248309</td>\n",
       "      <td>120</td>\n",
       "      <td>1229</td>\n",
       "      <td>1349</td>\n",
       "    </tr>\n",
       "    <tr>\n",
       "      <th>3</th>\n",
       "      <td>4</td>\n",
       "      <td>2011-01-04</td>\n",
       "      <td>1</td>\n",
       "      <td>0</td>\n",
       "      <td>1</td>\n",
       "      <td>0</td>\n",
       "      <td>2</td>\n",
       "      <td>1</td>\n",
       "      <td>1</td>\n",
       "      <td>0.200000</td>\n",
       "      <td>0.212122</td>\n",
       "      <td>0.590435</td>\n",
       "      <td>0.160296</td>\n",
       "      <td>108</td>\n",
       "      <td>1454</td>\n",
       "      <td>1562</td>\n",
       "    </tr>\n",
       "    <tr>\n",
       "      <th>4</th>\n",
       "      <td>5</td>\n",
       "      <td>2011-01-05</td>\n",
       "      <td>1</td>\n",
       "      <td>0</td>\n",
       "      <td>1</td>\n",
       "      <td>0</td>\n",
       "      <td>3</td>\n",
       "      <td>1</td>\n",
       "      <td>1</td>\n",
       "      <td>0.226957</td>\n",
       "      <td>0.229270</td>\n",
       "      <td>0.436957</td>\n",
       "      <td>0.186900</td>\n",
       "      <td>82</td>\n",
       "      <td>1518</td>\n",
       "      <td>1600</td>\n",
       "    </tr>\n",
       "    <tr>\n",
       "      <th>...</th>\n",
       "      <td>...</td>\n",
       "      <td>...</td>\n",
       "      <td>...</td>\n",
       "      <td>...</td>\n",
       "      <td>...</td>\n",
       "      <td>...</td>\n",
       "      <td>...</td>\n",
       "      <td>...</td>\n",
       "      <td>...</td>\n",
       "      <td>...</td>\n",
       "      <td>...</td>\n",
       "      <td>...</td>\n",
       "      <td>...</td>\n",
       "      <td>...</td>\n",
       "      <td>...</td>\n",
       "      <td>...</td>\n",
       "    </tr>\n",
       "    <tr>\n",
       "      <th>726</th>\n",
       "      <td>727</td>\n",
       "      <td>2012-12-27</td>\n",
       "      <td>1</td>\n",
       "      <td>1</td>\n",
       "      <td>12</td>\n",
       "      <td>0</td>\n",
       "      <td>4</td>\n",
       "      <td>1</td>\n",
       "      <td>2</td>\n",
       "      <td>0.254167</td>\n",
       "      <td>0.226642</td>\n",
       "      <td>0.652917</td>\n",
       "      <td>0.350133</td>\n",
       "      <td>247</td>\n",
       "      <td>1867</td>\n",
       "      <td>2114</td>\n",
       "    </tr>\n",
       "    <tr>\n",
       "      <th>727</th>\n",
       "      <td>728</td>\n",
       "      <td>2012-12-28</td>\n",
       "      <td>1</td>\n",
       "      <td>1</td>\n",
       "      <td>12</td>\n",
       "      <td>0</td>\n",
       "      <td>5</td>\n",
       "      <td>1</td>\n",
       "      <td>2</td>\n",
       "      <td>0.253333</td>\n",
       "      <td>0.255046</td>\n",
       "      <td>0.590000</td>\n",
       "      <td>0.155471</td>\n",
       "      <td>644</td>\n",
       "      <td>2451</td>\n",
       "      <td>3095</td>\n",
       "    </tr>\n",
       "    <tr>\n",
       "      <th>728</th>\n",
       "      <td>729</td>\n",
       "      <td>2012-12-29</td>\n",
       "      <td>1</td>\n",
       "      <td>1</td>\n",
       "      <td>12</td>\n",
       "      <td>0</td>\n",
       "      <td>6</td>\n",
       "      <td>0</td>\n",
       "      <td>2</td>\n",
       "      <td>0.253333</td>\n",
       "      <td>0.242400</td>\n",
       "      <td>0.752917</td>\n",
       "      <td>0.124383</td>\n",
       "      <td>159</td>\n",
       "      <td>1182</td>\n",
       "      <td>1341</td>\n",
       "    </tr>\n",
       "    <tr>\n",
       "      <th>729</th>\n",
       "      <td>730</td>\n",
       "      <td>2012-12-30</td>\n",
       "      <td>1</td>\n",
       "      <td>1</td>\n",
       "      <td>12</td>\n",
       "      <td>0</td>\n",
       "      <td>0</td>\n",
       "      <td>0</td>\n",
       "      <td>1</td>\n",
       "      <td>0.255833</td>\n",
       "      <td>0.231700</td>\n",
       "      <td>0.483333</td>\n",
       "      <td>0.350754</td>\n",
       "      <td>364</td>\n",
       "      <td>1432</td>\n",
       "      <td>1796</td>\n",
       "    </tr>\n",
       "    <tr>\n",
       "      <th>730</th>\n",
       "      <td>731</td>\n",
       "      <td>2012-12-31</td>\n",
       "      <td>1</td>\n",
       "      <td>1</td>\n",
       "      <td>12</td>\n",
       "      <td>0</td>\n",
       "      <td>1</td>\n",
       "      <td>1</td>\n",
       "      <td>2</td>\n",
       "      <td>0.215833</td>\n",
       "      <td>0.223487</td>\n",
       "      <td>0.577500</td>\n",
       "      <td>0.154846</td>\n",
       "      <td>439</td>\n",
       "      <td>2290</td>\n",
       "      <td>2729</td>\n",
       "    </tr>\n",
       "  </tbody>\n",
       "</table>\n",
       "<p>731 rows × 16 columns</p>\n",
       "</div>"
      ],
      "text/plain": [
       "     instant      dteday  season  yr  mnth  holiday  weekday  workingday  \\\n",
       "0          1  2011-01-01       1   0     1        0        6           0   \n",
       "1          2  2011-01-02       1   0     1        0        0           0   \n",
       "2          3  2011-01-03       1   0     1        0        1           1   \n",
       "3          4  2011-01-04       1   0     1        0        2           1   \n",
       "4          5  2011-01-05       1   0     1        0        3           1   \n",
       "..       ...         ...     ...  ..   ...      ...      ...         ...   \n",
       "726      727  2012-12-27       1   1    12        0        4           1   \n",
       "727      728  2012-12-28       1   1    12        0        5           1   \n",
       "728      729  2012-12-29       1   1    12        0        6           0   \n",
       "729      730  2012-12-30       1   1    12        0        0           0   \n",
       "730      731  2012-12-31       1   1    12        0        1           1   \n",
       "\n",
       "     weathersit      temp     atemp       hum  windspeed  casual  registered  \\\n",
       "0             2  0.344167  0.363625  0.805833   0.160446     331         654   \n",
       "1             2  0.363478  0.353739  0.696087   0.248539     131         670   \n",
       "2             1  0.196364  0.189405  0.437273   0.248309     120        1229   \n",
       "3             1  0.200000  0.212122  0.590435   0.160296     108        1454   \n",
       "4             1  0.226957  0.229270  0.436957   0.186900      82        1518   \n",
       "..          ...       ...       ...       ...        ...     ...         ...   \n",
       "726           2  0.254167  0.226642  0.652917   0.350133     247        1867   \n",
       "727           2  0.253333  0.255046  0.590000   0.155471     644        2451   \n",
       "728           2  0.253333  0.242400  0.752917   0.124383     159        1182   \n",
       "729           1  0.255833  0.231700  0.483333   0.350754     364        1432   \n",
       "730           2  0.215833  0.223487  0.577500   0.154846     439        2290   \n",
       "\n",
       "      cnt  \n",
       "0     985  \n",
       "1     801  \n",
       "2    1349  \n",
       "3    1562  \n",
       "4    1600  \n",
       "..    ...  \n",
       "726  2114  \n",
       "727  3095  \n",
       "728  1341  \n",
       "729  1796  \n",
       "730  2729  \n",
       "\n",
       "[731 rows x 16 columns]"
      ]
     },
     "execution_count": 3,
     "metadata": {},
     "output_type": "execute_result"
    }
   ],
   "source": [
    "daily_file = 'bike_day.csv'\n",
    "daily = pd.read_table(daily_file, sep=',')\n",
    "daily"
   ]
  },
  {
   "cell_type": "markdown",
   "id": "0a014d15-0fb1-43ce-95ad-2c556ec427df",
   "metadata": {},
   "source": [
    "### Designing the Synthesiser\n",
    "Here, one can change the sound that will be triggered by the individual data points during the sonification. \n",
    "We use a synth that simulates the sound of a marimba. A marimba has a clear pitch and a distinct attack/onset. Both of those qualities will be important for our sonification paradigm."
   ]
  },
  {
   "cell_type": "code",
   "execution_count": 7,
   "id": "6cdd2131-5141-4f9b-a8f8-0d055528c9f9",
   "metadata": {
    "tags": []
   },
   "outputs": [
    {
     "name": "stdout",
     "output_type": "stream",
     "text": [
      "[sclang]  sc3> r['callback'].value(\"\\\"sc3nb - Creating SynthDef Lens_Synth\\\".postln; r.tmpSynthDef = SynthDef(\\\"Lens_Synth\\\", { | freq = 1 , amp = 0.5, decayscale = 1, panning = 0| var sig, exciter; exciter = Impulse.ar(0); sig = DynKlank.ar(`[ [1, 4, 10, 11, 12, 15], [1, 0.66, 0.7, 0.36, 0.28, 0.3], [1, 0.3, 0.1, 0.023, 0.021, 0.018]], exciter, freq, 0, decayscale); DetectSilence.ar(sig, 0.0001, 0.05, doneAction:2); Out.ar(0, Pan2.ar(sig*amp, panning)); }); SynthDescLib.global.add(r.tmpSynthDef.asSynthDesc); r.tmpSynthDef.asBytes();\", \"127.0.0.1\", 57131);\n",
      "[sclang]  sc3nb - Creating SynthDef Lens_Synth\n",
      "[sclang]  -> Int8Array[ 83, 67, 103, 102, 0, 0, 0, 2, 0, 1, 10, 76, 101, 110, 115, 95, 83, 121, 110, 116, 104, 0, 0, 0, 19, 0, 0, 0, 0, 64, -128, 0, 0, 65, 32, 0, 0, 65, 48, 0, 0, 65, 64, 0, 0, 65, 112, 0, 0, 62, -103, -103, -102, 61, -52, -52, -51, 60, -68, 106, 127, 60, -84, 8, 49, 60, -109, 116, -68, 63, 40, -11, -61, 63, 51, 51, 51, 62, -72, 81, -20, 62, -113, 92, 41, 56, -47, -73, 23, 61, 76, -52, -51, 64, 0, 0, 0, 63, -128, 0, 0, 0, 0, 0, 4, 63, -128, 0, 0, 63, 0, 0, 0, 63, -128, 0, 0, 0, 0, 0, 0, 0, 0, 0, 4, 4, 1...etc...\n"
     ]
    }
   ],
   "source": [
    "Lens_Synth_def = SynthDef('Lens_Synth',\n",
    "\"\"\"{ | freq = 1 , amp = 0.5, decayscale = 1, panning = 0|\n",
    "    var sig, exciter;\n",
    "    //exciter = WhiteNoise.ar() * EnvGen.ar(Env.perc(0.0001, 0.0001), 1);\n",
    "    exciter = Impulse.ar(0);\n",
    "    sig = DynKlank.ar(`[\n",
    "    [1, 4, 10, 11, 12, 15], \n",
    "    [1, 0.66, 0.7, 0.36, 0.28, 0.3], \n",
    "    [1, 0.3, 0.1, 0.023, 0.021, 0.018]], exciter, freq, 0, decayscale);\n",
    "    \n",
    "    DetectSilence.ar(sig, 0.0001, 0.05, doneAction:2);\n",
    "    Out.ar(0, Pan2.ar(sig*amp, panning));\n",
    "}\"\"\").add()\n",
    "#%sc Synth.new(\\Lens_Synth ,[\"freq\", 400, \"amp\", 0.05, \"decayscale\", 1.5, \"panning\", 0]);"
   ]
  },
  {
   "cell_type": "markdown",
   "id": "eef90838-d7e3-4dac-85d3-da14fc6532d8",
   "metadata": {},
   "source": [
    "Listen to your Synth:"
   ]
  },
  {
   "cell_type": "code",
   "execution_count": 11,
   "id": "ff4e02ab-5048-4020-a97d-5e192a1fa1af",
   "metadata": {
    "tags": []
   },
   "outputs": [
    {
     "name": "stdout",
     "output_type": "stream",
     "text": [
      "[sclang]  sc3> Synth.new(\\Lens_Synth ,[\"freq\", 200, \"amp\", 0.005, \"decayscale\", 1.5, \"panning\", 0]);\n",
      "[sclang]  -> Synth('Lens_Synth' : 1005)\n"
     ]
    }
   ],
   "source": [
    "%%scs # Listen to the marimba with 200 Hz fundamental frequency\n",
    "Synth.new(\\Lens_Synth ,[\"freq\", 200, \"amp\", 0.005, \"decayscale\", 1.5, \"panning\", 0]);"
   ]
  },
  {
   "cell_type": "markdown",
   "id": "b48c14d1-a0bb-4754-b86b-0d1244006ab5",
   "metadata": {},
   "source": [
    "### Defining the function that will be called when the scatterplot is clicked:"
   ]
  },
  {
   "cell_type": "code",
   "execution_count": 12,
   "id": "c074c465-6f5e-448d-93bb-0e32a3837a45",
   "metadata": {},
   "outputs": [],
   "source": [
    "def on_lens_clicked(widget, x: float, y: float, filtered: pd.DataFrame, distances: pd.Series): \n",
    "    with outputBike:\n",
    "      \n",
    "    #----------------------------------------------------------------------------------------------\n",
    "    # Store the moment of mouse click to t0\n",
    "        t0 = time.time()\n",
    "   \n",
    "    #----------------------------------------------------------------------------------------------    \n",
    "    # Duration of scanning process (equals [seconds] if, and only if the lens has size 100%)\n",
    "        T_max = duration.value * widget.size\n",
    "    \n",
    "    #----------------------------------------------------------------------------------------------           \n",
    "    # store values of user interface\n",
    "        x_field = widget.x_field\n",
    "        y_field = widget.y_field\n",
    "        shape = widget.shape\n",
    "        size = widget.size\n",
    "\n",
    "        x_min = filtered[x_field].min()\n",
    "        x_max = filtered[x_field].max()\n",
    "        y_min = filtered[y_field].min()\n",
    "        y_max = filtered[y_field].max()\n",
    "        \n",
    "        dB_range_val = dB_range.value\n",
    "        dB_min = dB_range_val[0]\n",
    "        dB_max = dB_range_val[1]\n",
    "\n",
    "        midi_range_val = midi_range.value\n",
    "        midi_min = midi_range_val[0]\n",
    "        midi_max = midi_range_val[1]\n",
    "\n",
    "        soni_dim_min = widget.data[soni_dim.value].min()\n",
    "        soni_dim_max = widget.data[soni_dim.value].max()  \n",
    "\n",
    "        soni_sort_dim_min = filtered[soni_sort_dim.value].min()\n",
    "        soni_sort_dim_max = filtered[soni_sort_dim.value].max()\n",
    "        \n",
    "        if filtered.shape[0] == 1: # otherwise linlin division by zero whenever only one point in lens\n",
    "            x_min = 0\n",
    "            y_min = 0\n",
    "            soni_dim_min = 0\n",
    "            soni_sort_dim_min = 0\n",
    "    \n",
    "    #----------------------------------------------------------------------------------------------                 \n",
    "    # pre sorting the data for faster algorithm\n",
    "        if widget.shape == \"circle\":\n",
    "            if euclidean_switch.value == \"Euclidean Distance\":\n",
    "                dist_filt = distances[distances <= 1]\n",
    "                filtered = filtered.assign(dist=dist_filt.values)\n",
    "                filtered = filtered.sort_values('dist')\n",
    "            elif euclidean_switch.value == \"Sort\":\n",
    "                filtered = filtered.sort_values(soni_sort_dim.value)\n",
    "            \n",
    "        elif widget.shape == \"yonly\":\n",
    "            filtered = filtered.sort_values(soni_sort_dim.value)\n",
    "        \n",
    "        elif widget.shape == \"square\" or \"xonly\":\n",
    "            filtered = filtered.sort_values(soni_sort_dim.value)                \n",
    "    #----------------------------------------------------------------------------------------------   \n",
    "    if decay_switch.value == 'on': # added .value\n",
    "        # Decay with respect to mean deviation between all data and lens data\n",
    "        filtered_med = filtered[soni_dim.value].mean()\n",
    "        data_med = widget.data[soni_dim.value].mean() # can be done outside of def\n",
    "        med_diff = abs(filtered_med - data_med)       \n",
    "        decay = scn.linlin(med_diff,0,widget.data[soni_dim.value].max(),1,10)\n",
    "    elif decay_switch.value == 'off':\n",
    "        decay = 1\n",
    "        \n",
    "    # ----------------------------------------------------------------------------------------------    \n",
    "    # SONIFICATION    \n",
    "    # the \"sonifyer\" will be applied to all the datapoints in the \"filtered\" dataframe.\n",
    "    filtered.apply(sonifyer, axis=1, args = [shape, size, t0, T_max, decay, soni_dim.value, soni_dim_min, soni_dim_max, soni_sort_dim.value, soni_sort_dim_min, soni_sort_dim_max, x_field, y_field, x_min, x_max, y_min, y_max, midi_min, midi_max, dB_min, dB_max])\n",
    "        \n",
    "        "
   ]
  },
  {
   "cell_type": "markdown",
   "id": "90fe8f87-04d6-4108-b1ab-0a58f0ce9423",
   "metadata": {},
   "source": [
    "### Defining the function that will be called to send data to SuperCollider "
   ]
  },
  {
   "cell_type": "code",
   "execution_count": 13,
   "id": "fecec03e-36cc-40d0-9b8f-f6780a1a23a2",
   "metadata": {},
   "outputs": [],
   "source": [
    "def sonifyer(filtered, shape, size, t0, T_max, decay, soni_dim_value, soni_dim_min, soni_dim_max, soni_sort_dim_value, soni_sort_dim_min, soni_sort_dim_max, x_field, y_field, x_min, x_max, y_min, y_max, midi_min, midi_max, dB_min, dB_max):\n",
    "    \n",
    "    if shape == \"circle\": \n",
    "        \n",
    "        if euclidean_switch.value == \"Euclidean Distance\":\n",
    "            onset = t0 + scn.linlin(filtered.dist,0,1,0,T_max)\n",
    "        else: \n",
    "            onset = t0 + scn.linlin(filtered[soni_sort_dim_value],soni_sort_dim_min,soni_sort_dim_max,0, T_max)\n",
    "            \n",
    "        panning = scn.linlin(filtered[x_field],x_min,x_max,-0.4,0.4,\"minmax\")\n",
    "        amp = 0.01 # = -40dB\n",
    "        \n",
    "        ## uncomment if you want to use the cirular lens with radial volume attenuation (euclidaen distance from mouse position)\n",
    "        # amp = scn.dbamp(scn.linlin(filtered.dist, 0, 1, dB_max, dB_min)) # amp not meaningfull with other sorting\n",
    "        \n",
    "    elif shape == \"yonly\":\n",
    "        onset = t0 + scn.linlin(filtered[soni_sort_dim_value],soni_sort_dim_min,soni_sort_dim_max,0, duration.value)\n",
    "        panning = scn.linlin(filtered[x_field],x_min,x_max,-0.4,0.4) # intuitive design decision  \n",
    "        amp = 0.01 # = -40dB\n",
    "        \n",
    "    elif shape == \"square\" or \"xonly\":\n",
    "        onset = t0 + scn.linlin(filtered[soni_sort_dim_value],soni_sort_dim_min,soni_sort_dim_max,0, T_max)\n",
    "        panning = scn.linlin(filtered[x_field],x_min,x_max,-0.4,0.4)\n",
    "        amp = 0.01 # = -40dB\n",
    "        \n",
    "    freq = scn.midicps(scn.linlin(filtered[soni_dim_value], soni_dim_min, soni_dim_max, midi_min, midi_max))\n",
    "\n",
    "    # Now, the data is sent to SuperCollider via the open sound controll protocol (OSC)\n",
    "    sc.server.bundler(onset+0.05, \"/s_new\", [\"Lens_Synth\", -1, 1, 1, \"freq\", freq, \"amp\", amp, \"decayscale\", decay, \"panning\", panning]).send()\n",
    "    \n",
    "    ## Optional:  Timed Queue\n",
    "    ## uncomment this if you are using datasets with more then 1000 (maybe more) items. Comment the line above instead. Details about the bottleneck of OSC bundles and the Timed Queue can be found here: \n",
    "    ## https://sc3nb.readthedocs.io/en/latest/autogen/notebooks/timedqueue-examples.html#TimedQueueSC\n",
    "    ## using the Timed Queue will make the code slower (but robust for more items) - we added a delay of 0.5 seconds to keep the system deterministic. You might need to increase that delay even further.\n",
    "    #queue.put_bundler(onset, scn.Bundler(onset+0.5, \"/s_new\", [\"Lens_Synth\", -1, 1, 1, \"freq\", freq, \"amp\", amp, \"decayscale\", decay, \"panning\", panning]))\n",
    "    "
   ]
  },
  {
   "cell_type": "markdown",
   "id": "a889e41e-968e-4a4c-9fde-c40b61a17edd",
   "metadata": {},
   "source": [
    "### Preparations for the user interface"
   ]
  },
  {
   "cell_type": "code",
   "execution_count": 14,
   "id": "6d468384-175b-4137-9f8f-e29b40ac1f7c",
   "metadata": {},
   "outputs": [],
   "source": [
    "style = {'description_width': 'initial'}\n",
    "\n",
    "#----------------------------------------------------\n",
    "# Silders for sound parameters:\n",
    "dB_range = widgets.IntRangeSlider(description='Volume Range [dB]',min=-100,max=-60,step=1,value=[-80,-60],style = style)\n",
    "midi_range = widgets.IntRangeSlider(description='Pitch Range [Midi]',min=48,max=90,step=1,value=[60,90],style = style)\n",
    "duration = widgets.FloatSlider(description='Scan Duration [*s]',min = 0.5, max=10, step=0.1, value = 3,style = style)\n",
    "\n",
    "def f(dB_range,midi_range,duration):\n",
    "    return [dB_range,midi_range,duration]\n",
    "\n",
    "sliders = widgets.interactive_output(f, {'dB_range': dB_range, 'midi_range': midi_range, 'duration': duration})\n",
    "\n",
    "#---------------------------------------------------\n",
    "soni_dim = widgets.Dropdown(options=['temp','atemp','hum','windspeed','cnt','casual','registered'],\n",
    "                                value='cnt',\n",
    "                                description='Pitch:',\n",
    "                                disabled=False)\n",
    "\n",
    "def soni_dim_handler(change1):\n",
    "    global soni_dim\n",
    "    soni_dim.value = change1.new  \n",
    "\n",
    "soni_dim.observe(soni_dim_handler, names='value')\n",
    "\n",
    "#----------------------------------------------------\n",
    "soni_sort_dim = widgets.Dropdown(options=['temp','atemp','hum','windspeed','cnt','casual','registered'],\n",
    "                                       value='temp',\n",
    "                                       description='Sort:',\n",
    "                                       disabled=False)\n",
    "\n",
    "def soni_sort_dim_handler(change2):\n",
    "    global soni_sort_dim\n",
    "    soni_sort_dim.value = change2.new  \n",
    "\n",
    "soni_sort_dim.observe(soni_sort_dim_handler, names='value')\n",
    "\n",
    "#----------------------------------------------------\n",
    "decay_switch = widgets.RadioButtons(options=['off','on'],\n",
    "                                    value = 'off', \n",
    "                                    description='Decay mapping',\n",
    "                                    style = style)\n",
    "\n",
    "def decay_switch_handler(change3):\n",
    "    global decay_switch\n",
    "    decay_switch.value = change3.new  #added .value\n",
    "\n",
    "decay_switch.observe(decay_switch_handler, names='value')\n",
    "#----------------------------------------------------\n",
    "euclidean_switch = widgets.RadioButtons(options=['Sort','Euclidean Distance'],\n",
    "                                        value = 'Sort',\n",
    "                                        description='Optional circle sort',\n",
    "                                        style = style)\n",
    "\n",
    "def euclidean_switch_handler(change4):\n",
    "    global euclidean_switch\n",
    "    euclidean_switch.value = change4.new  \n",
    "\n",
    "euclidean_switch.observe(euclidean_switch_handler, names='value')\n",
    "\n",
    "#----------------------------------------------------\n",
    "# interface text in widget\n",
    "interface_text = widgets.HTML(value=\"\"\"\n",
    "<b>SoniScope Interface:</b> <br>\n",
    "<br>\n",
    "<br>\n",
    "\"\"\")\n",
    "\n",
    "# explanation text in widget\n",
    "explanation_text = widgets.HTML(value=\"\"\"\n",
    "<b>Interface Explanation:</b> <br> \n",
    "Please choose the two data attributes to be visualized with the <b>X-Axis</b> and <b>Y-Axis</b> options. <br> \n",
    "The <b>Pitch</b> option lets you choose which data attribute will be mapped to the pitch of a marimba hit. <br>\n",
    "The <b>Sort</b> option lets you choose the data attribute that will be used to sort the pitch dimension from low to high (positive polarity). <br>\n",
    "You can change the size of the lens with your mouse wheel or the <b>Lens Size</b> slider.<br>\n",
    "The <b>Scan Duration</b> slider lets you change the speed of the sonification [* in seconds only with a lens size of 100%].<br>\n",
    "Finally, the <b>Lens Shape</b> gives you several options for different shapes of the lens.\n",
    "<br>\n",
    "<br> <b> Sonification paradigm:</b>\n",
    "<br> The sonification will represent a third (potentially not visible) attribute via pitch. \n",
    "<br> Every item triggers a marimba sound at some point in time that is dependent on the <b>Sort</b> dimension. \n",
    "<br> Items with a low value for the <b>Sort</b> attribute will be played back earlier. \n",
    "<br>\n",
    "<br> <b>Hidden options:</b>\n",
    "<br> Please uncomment the respective lines in the \"display\" bracket in the cell above to access these options. \n",
    "<br> The <b>Pitch Range</b> slider lets you choose a lower and an upper boundary for the pitch mapping. The slider represents MIDI notes, but the pitches are not quantized to musical notes.\n",
    "<br> The <b>Volume Range slider</b> will affect only the circular lens. (!! and you have to uncomment a line in the sonifyer cell) The individual auditory marks will be attenuated with increasing distance to the center of the lens.\n",
    "<br> The <b>Decay mapping</b> option lets you sonify the absolute difference between the lens-mean and the global mean of the pitch attribute. All the auditory marks will have longer decay when the means differ more. \n",
    "<br> This lets you search for groups of outliers within the sonified attribute. \n",
    "<br> The <b>Optional circle sort</b> option lets you change the sorting of the circular lens to an euclidean distance sorting from the center of the circle outwards. Items that are closer to the visible center of the lens will sound earlier.\n",
    "\"\"\")\n"
   ]
  },
  {
   "cell_type": "markdown",
   "id": "5cfadcae-19b1-4536-85ea-05b4a597ba7a",
   "metadata": {},
   "source": [
    "### Ploting the user interface"
   ]
  },
  {
   "cell_type": "code",
   "execution_count": 15,
   "id": "fa2be301-99ee-4dab-b606-6fa0078fec74",
   "metadata": {},
   "outputs": [
    {
     "data": {
      "application/vnd.jupyter.widget-view+json": {
       "model_id": "2b4b0e16536c424e985d9f523c3c46cb",
       "version_major": 2,
       "version_minor": 0
      },
      "text/plain": [
       "Box(children=(VBox(children=(HTML(value='\\n<b>SoniScope Interface:</b> <br>\\n<br>\\n<br>\\n'), Dropdown(descript…"
      ]
     },
     "metadata": {},
     "output_type": "display_data"
    },
    {
     "data": {
      "application/vnd.jupyter.widget-view+json": {
       "model_id": "3eced8e884794099a3e6ae3282fe50d8",
       "version_major": 2,
       "version_minor": 0
      },
      "text/plain": [
       "HTML(value='\\n<b>Interface Explanation:</b> <br> \\nPlease choose the two data attributes to be visualized with…"
      ]
     },
     "metadata": {},
     "output_type": "display_data"
    },
    {
     "data": {
      "application/vnd.jupyter.widget-view+json": {
       "model_id": "4ee6281ee75b41598f9d14f9f8c58ec8",
       "version_major": 2,
       "version_minor": 0
      },
      "text/plain": [
       "Output()"
      ]
     },
     "metadata": {},
     "output_type": "display_data"
    }
   ],
   "source": [
    "plotBike = LensWidget(daily, 'temp', 'hum')\n",
    "\n",
    "#----------------------------------------------------\n",
    "sliderSize = widgets.FloatSlider(description='Lens Size', min=0.01, max=1.5, step=0.01, readout_format='.0%')\n",
    "\n",
    "#----------------------------------------------------\n",
    "radioShape = widgets.RadioButtons(options=ALLOWED_SHAPES,\n",
    "    layout={'width': 'max-content'}, # If the items' names are long\n",
    "    description='Lens Shape:')\n",
    "\n",
    "#----------------------------------------------------\n",
    "numeric_cols = daily.select_dtypes(include='number').columns.values.tolist() # get possible colums for axes\n",
    "drpX = widgets.Dropdown(options=numeric_cols, value='temp', description='X-Axis:',)\n",
    "drpY = widgets.Dropdown(options=numeric_cols, value='hum', description='Y-Axis:',)\n",
    "\n",
    "#----------------------------------------------------\n",
    "# connection between frontend and python\n",
    "l = widgets.link((plotBike, 'size'), (sliderSize, 'value'))\n",
    "l2 = widgets.link((plotBike, 'shape'), (radioShape, 'value'))\n",
    "l3 = widgets.link((plotBike, 'x_field'), (drpX, 'value'))\n",
    "l4 = widgets.link((plotBike, 'y_field'), (drpY, 'value'))\n",
    "\n",
    "#----------------------------------------------------\n",
    "outputBike = widgets.Output() # for using print within the def on_clicked\n",
    "\n",
    "#----------------------------------------------------\n",
    "display(widgets.Box([\n",
    "            widgets.VBox([\n",
    "                interface_text,\n",
    "                drpX, \n",
    "                drpY,\n",
    "                soni_dim, # \n",
    "                soni_sort_dim,\n",
    "                sliderSize,\n",
    "                duration,\n",
    "                #midi_range, # uncomment if you want to change pitch range interactively (run all cells above again)\n",
    "                #dB_range, # uncomment if you want to change volume range for the circular lens interactively (!! also uncomment a line in the \"sonifyer\"-def cell above)(run all cells above again)\n",
    "                radioShape,\n",
    "                #decay_switch, # uncomment for the decay option (run also the cell above again)\n",
    "                #euclidean_switch,  # uncomment for the eclidean distance sorting option (run also the cell above again)\n",
    "            ]),\n",
    "            plotBike\n",
    "        ]),\n",
    "        explanation_text,\n",
    "        outputBike)\n",
    "\n",
    "#----------------------------------------------------\n",
    "# optional for bigger datasets\n",
    "queue = scn.TimedQueueSC() # to use the Timed Queue, uncomment the last block with in the \"sonifyer\" cell.\n",
    "\n",
    "#----------------------------------------------------\n",
    "# You can use the SoniScpoe now :)\n",
    "plotBike.on_lens_click(on_lens_clicked)\n"
   ]
  },
  {
   "cell_type": "markdown",
   "id": "63e8fd16-cd3e-4bdd-bf88-101a4129bdc1",
   "metadata": {},
   "source": [
    "---\n",
    "---\n",
    "**Change the substrate size**\n",
    "\n",
    "The lens size will not be effected by a different substrate size, event if the substrate is rectangular.\n",
    "The SoniScope will always sonify the items thats lie within the visible lens."
   ]
  },
  {
   "cell_type": "code",
   "execution_count": 16,
   "id": "d0e80cf1-7b28-4dfa-a3fc-094488328f53",
   "metadata": {},
   "outputs": [],
   "source": [
    "plotBike.substrate_width = 600\n",
    "plotBike.substrate_height = 600"
   ]
  },
  {
   "cell_type": "markdown",
   "id": "7b4540a8-ac2b-44a7-a787-86a022757170",
   "metadata": {},
   "source": [
    "--- \n",
    "**Optional SuperCollider commands**\n",
    "\n",
    "These commands might help you analyse/understand the sonification further."
   ]
  },
  {
   "cell_type": "code",
   "execution_count": 66,
   "id": "935d62c2-a48d-4aed-b75b-84e788d1b235",
   "metadata": {},
   "outputs": [
    {
     "name": "stdout",
     "output_type": "stream",
     "text": [
      "[sclang]  sc3> ( s.makeWindow; s.meter; s.scope; FreqScope.new; );\n",
      "[sclang]  -> a FreqScope\n",
      "-> a FreqScope\n"
     ]
    }
   ],
   "source": [
    "%%sc \n",
    "(\n",
    "s.makeWindow; // monitor you CPU during sound generation\n",
    "s.meter; // monitor the output volume \n",
    "s.scope; // monitor the waveform of the sonification\n",
    "FreqScope.new; // monitor the specturm of the sonification\n",
    ")"
   ]
  },
  {
   "cell_type": "code",
   "execution_count": 67,
   "id": "daf2d316-6733-4a89-b4ed-50678695f7b3",
   "metadata": {},
   "outputs": [
    {
     "name": "stdout",
     "output_type": "stream",
     "text": [
      "Quitting SCServer... [scsynth | reached EOF ]\n",
      "Done.\n",
      "Exiting sclang... [sclang]  sc3> \"sc3nb - exiting sclang\".postln; 0.exit;\n",
      "[sclang]  sc3nb - exiting sclang\n",
      "[sclang]  -> 0\n",
      "[sclang]  sc3> main: waiting for input thread to join...\n",
      "[sclang]  main: quitting...\n",
      "[sclang]  cleaning up OSC\n",
      "[sclang | reached EOF ]\n",
      "Done.\n"
     ]
    }
   ],
   "source": [
    "# end the connection to SuperCollider\n",
    "sc.exit()"
   ]
  }
 ],
 "metadata": {
  "kernelspec": {
   "display_name": "Python 3 (ipykernel)",
   "language": "python",
   "name": "python3"
  },
  "language_info": {
   "codemirror_mode": {
    "name": "ipython",
    "version": 3
   },
   "file_extension": ".py",
   "mimetype": "text/x-python",
   "name": "python",
   "nbconvert_exporter": "python",
   "pygments_lexer": "ipython3",
   "version": "3.8.12"
  },
  "widgets": {
   "application/vnd.jupyter.widget-state+json": {
    "state": {
     "13100241d576457ab2a0f0977d9345f9": {
      "model_module": "@jupyter-widgets/controls",
      "model_module_version": "1.5.0",
      "model_name": "DescriptionStyleModel",
      "state": {
       "description_width": ""
      }
     },
     "3410114f89614fbbb209cb626346e5c4": {
      "model_module": "@jupyter-widgets/base",
      "model_module_version": "1.2.0",
      "model_name": "LayoutModel",
      "state": {}
     },
     "3de8022a75974c6ea21e4b2dcf6b5f37": {
      "model_module": "@jupyter-widgets/base",
      "model_module_version": "1.2.0",
      "model_name": "LayoutModel",
      "state": {}
     },
     "566ae6e984404fa8941070c4e18b55f5": {
      "model_module": "@jupyter-widgets/controls",
      "model_module_version": "1.5.0",
      "model_name": "TextModel",
      "state": {
       "description": "Target 1",
       "layout": "IPY_MODEL_3de8022a75974c6ea21e4b2dcf6b5f37",
       "placeholder": "Type something",
       "style": "IPY_MODEL_a7f433d7f01c4c1f9aeaf58a04f29c51",
       "value": "Hello World"
      }
     },
     "65ebbb08d2474b4ab491d2943d93f588": {
      "model_module": "@jupyter-widgets/base",
      "model_module_version": "1.2.0",
      "model_name": "LayoutModel",
      "state": {}
     },
     "6ed4f256d35e4fdeb1cbdffa722bcc15": {
      "model_module": "sonivis-lens-widget",
      "model_module_version": "^0.1.0",
      "model_name": "LensModel",
      "state": {
       "_model_module_version": "^0.1.0",
       "_view_module_version": "^0.1.0",
       "layout": "IPY_MODEL_8cf636348312444482e3b219df369467",
       "value": "none"
      }
     },
     "75ae2fd7e25d439889ed85d0f2c85479": {
      "model_module": "@jupyter-widgets/output",
      "model_module_version": "1.0.0",
      "model_name": "OutputModel",
      "state": {
       "layout": "IPY_MODEL_b5c1fa26cc3e4850a41a3de61779b31d",
       "outputs": [
        {
         "name": "stdout",
         "output_type": "stream",
         "text": "Cherry\nnone\n"
        }
       ]
      }
     },
     "8cf636348312444482e3b219df369467": {
      "model_module": "@jupyter-widgets/base",
      "model_module_version": "1.2.0",
      "model_name": "LayoutModel",
      "state": {}
     },
     "943e3134d5ad40b89e10299d93b82b9f": {
      "model_module": "sonivis-lens-widget",
      "model_module_version": "^0.1.0",
      "model_name": "LensModel",
      "state": {
       "_model_module_version": "^0.1.0",
       "_view_module_version": "^0.1.0",
       "layout": "IPY_MODEL_65ebbb08d2474b4ab491d2943d93f588"
      }
     },
     "a7f433d7f01c4c1f9aeaf58a04f29c51": {
      "model_module": "@jupyter-widgets/controls",
      "model_module_version": "1.5.0",
      "model_name": "DescriptionStyleModel",
      "state": {
       "description_width": ""
      }
     },
     "b5c1fa26cc3e4850a41a3de61779b31d": {
      "model_module": "@jupyter-widgets/base",
      "model_module_version": "1.2.0",
      "model_name": "LayoutModel",
      "state": {}
     },
     "bcf4849b02824e4d91860b012eaa491b": {
      "model_module": "@jupyter-widgets/base",
      "model_module_version": "1.2.0",
      "model_name": "LayoutModel",
      "state": {}
     },
     "c578da8205c44692a8fc65222eddc46c": {
      "model_module": "@jupyter-widgets/controls",
      "model_module_version": "1.5.0",
      "model_name": "LabelModel",
      "state": {
       "layout": "IPY_MODEL_3410114f89614fbbb209cb626346e5c4",
       "style": "IPY_MODEL_13100241d576457ab2a0f0977d9345f9",
       "value": "Hover in LensWidget is reflected in target1"
      }
     },
     "cc239f75e4654ea59bc3b9d8d6e30d4f": {
      "model_module": "sonivis-lens-widget",
      "model_module_version": "^0.1.0",
      "model_name": "LensModel",
      "state": {
       "_model_module_version": "^0.1.0",
       "_view_module_version": "^0.1.0",
       "layout": "IPY_MODEL_bcf4849b02824e4d91860b012eaa491b",
       "value": "abc"
      }
     }
    },
    "version_major": 2,
    "version_minor": 0
   }
  }
 },
 "nbformat": 4,
 "nbformat_minor": 5
}
